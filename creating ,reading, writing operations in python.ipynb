{
 "cells": [
  {
   "cell_type": "code",
   "execution_count": 73,
   "id": "42c86aaa",
   "metadata": {},
   "outputs": [],
   "source": [
    "f = open(\"demo.txt\",\"wb\")#creating a file"
   ]
  },
  {
   "cell_type": "code",
   "execution_count": 74,
   "id": "9d90922e",
   "metadata": {},
   "outputs": [],
   "source": [
    "f = open(\"demo.txt\",\"w\")#writing a file"
   ]
  },
  {
   "cell_type": "code",
   "execution_count": 92,
   "id": "64f08812",
   "metadata": {},
   "outputs": [
    {
     "data": {
      "text/plain": [
       "14"
      ]
     },
     "execution_count": 92,
     "metadata": {},
     "output_type": "execute_result"
    }
   ],
   "source": [
    "f.write(\"hi how are you\")"
   ]
  },
  {
   "cell_type": "code",
   "execution_count": 75,
   "id": "f943d7e4",
   "metadata": {},
   "outputs": [],
   "source": [
    "f.close()#äclosing a file"
   ]
  },
  {
   "cell_type": "code",
   "execution_count": 77,
   "id": "9b18a5bd",
   "metadata": {},
   "outputs": [],
   "source": [
    "f = open(\"demo.txt\")"
   ]
  },
  {
   "cell_type": "code",
   "execution_count": 78,
   "id": "e034d0c4",
   "metadata": {},
   "outputs": [
    {
     "data": {
      "text/plain": [
       "''"
      ]
     },
     "execution_count": 78,
     "metadata": {},
     "output_type": "execute_result"
    }
   ],
   "source": [
    "f.read()"
   ]
  },
  {
   "cell_type": "code",
   "execution_count": 79,
   "id": "fb546bfc",
   "metadata": {},
   "outputs": [
    {
     "data": {
      "text/plain": [
       "''"
      ]
     },
     "execution_count": 79,
     "metadata": {},
     "output_type": "execute_result"
    }
   ],
   "source": [
    "f.read()"
   ]
  },
  {
   "cell_type": "code",
   "execution_count": 80,
   "id": "da9325e6",
   "metadata": {},
   "outputs": [
    {
     "data": {
      "text/plain": [
       "0"
      ]
     },
     "execution_count": 80,
     "metadata": {},
     "output_type": "execute_result"
    }
   ],
   "source": [
    "f.seek(0)#making cursor position"
   ]
  },
  {
   "cell_type": "code",
   "execution_count": 99,
   "id": "4fdffaeb",
   "metadata": {},
   "outputs": [
    {
     "data": {
      "text/plain": [
       "'hi how are you'"
      ]
     },
     "execution_count": 99,
     "metadata": {},
     "output_type": "execute_result"
    }
   ],
   "source": [
    "f.read()"
   ]
  },
  {
   "cell_type": "code",
   "execution_count": 100,
   "id": "3f7c5cde",
   "metadata": {},
   "outputs": [],
   "source": [
    "f = open(\"demo.txt\",\"r\")"
   ]
  },
  {
   "cell_type": "code",
   "execution_count": 102,
   "id": "9a674a1b",
   "metadata": {},
   "outputs": [
    {
     "data": {
      "text/plain": [
       "'hi how are you'"
      ]
     },
     "execution_count": 102,
     "metadata": {},
     "output_type": "execute_result"
    }
   ],
   "source": [
    "f.read()"
   ]
  },
  {
   "cell_type": "code",
   "execution_count": 103,
   "id": "d86ce780",
   "metadata": {},
   "outputs": [
    {
     "data": {
      "text/plain": [
       "''"
      ]
     },
     "execution_count": 103,
     "metadata": {},
     "output_type": "execute_result"
    }
   ],
   "source": [
    "f.read()"
   ]
  },
  {
   "cell_type": "code",
   "execution_count": 104,
   "id": "92d9b698",
   "metadata": {},
   "outputs": [
    {
     "data": {
      "text/plain": [
       "0"
      ]
     },
     "execution_count": 104,
     "metadata": {},
     "output_type": "execute_result"
    }
   ],
   "source": [
    "f.seek(0)"
   ]
  },
  {
   "cell_type": "code",
   "execution_count": 105,
   "id": "c27fa580",
   "metadata": {},
   "outputs": [
    {
     "data": {
      "text/plain": [
       "'hi'"
      ]
     },
     "execution_count": 105,
     "metadata": {},
     "output_type": "execute_result"
    }
   ],
   "source": [
    "f.read(2)"
   ]
  },
  {
   "cell_type": "code",
   "execution_count": 106,
   "id": "5820dd00",
   "metadata": {},
   "outputs": [],
   "source": [
    "f.close()"
   ]
  },
  {
   "cell_type": "code",
   "execution_count": 81,
   "id": "881d320c",
   "metadata": {},
   "outputs": [],
   "source": [
    "f=open(\"demo.txt\",\"r\")#reading a file"
   ]
  },
  {
   "cell_type": "code",
   "execution_count": 108,
   "id": "ed655e4a",
   "metadata": {},
   "outputs": [
    {
     "data": {
      "text/plain": [
       "'hi how are you'"
      ]
     },
     "execution_count": 108,
     "metadata": {},
     "output_type": "execute_result"
    }
   ],
   "source": [
    "f.read()"
   ]
  },
  {
   "cell_type": "code",
   "execution_count": 109,
   "id": "34314dc2",
   "metadata": {},
   "outputs": [
    {
     "data": {
      "text/plain": [
       "<_io.TextIOWrapper name='demo.txt' mode='w' encoding='UTF-8'>"
      ]
     },
     "execution_count": 109,
     "metadata": {},
     "output_type": "execute_result"
    }
   ],
   "source": [
    "open(\"demo.txt\",\"w\")"
   ]
  },
  {
   "cell_type": "code",
   "execution_count": 110,
   "id": "167cbcfa",
   "metadata": {},
   "outputs": [
    {
     "data": {
      "text/plain": [
       "''"
      ]
     },
     "execution_count": 110,
     "metadata": {},
     "output_type": "execute_result"
    }
   ],
   "source": [
    "f.read()"
   ]
  },
  {
   "cell_type": "code",
   "execution_count": 111,
   "id": "a6f04289",
   "metadata": {},
   "outputs": [
    {
     "data": {
      "text/plain": [
       "0"
      ]
     },
     "execution_count": 111,
     "metadata": {},
     "output_type": "execute_result"
    }
   ],
   "source": [
    "f.seek(0)"
   ]
  },
  {
   "cell_type": "code",
   "execution_count": 112,
   "id": "c8b66e00",
   "metadata": {},
   "outputs": [
    {
     "data": {
      "text/plain": [
       "''"
      ]
     },
     "execution_count": 112,
     "metadata": {},
     "output_type": "execute_result"
    }
   ],
   "source": [
    "f.read()"
   ]
  },
  {
   "cell_type": "code",
   "execution_count": 113,
   "id": "31e0c3a3",
   "metadata": {},
   "outputs": [],
   "source": [
    "f=open(\"demo.txt\",\"w\")"
   ]
  },
  {
   "cell_type": "code",
   "execution_count": 114,
   "id": "f9587faf",
   "metadata": {},
   "outputs": [
    {
     "data": {
      "text/plain": [
       "25"
      ]
     },
     "execution_count": 114,
     "metadata": {},
     "output_type": "execute_result"
    }
   ],
   "source": [
    "f.write(\"i m fine what are u doing\")"
   ]
  },
  {
   "cell_type": "code",
   "execution_count": 115,
   "id": "3c24eda1",
   "metadata": {},
   "outputs": [],
   "source": [
    "f.close()"
   ]
  },
  {
   "cell_type": "code",
   "execution_count": 116,
   "id": "270f894c",
   "metadata": {},
   "outputs": [],
   "source": [
    "f = open(\"demo.txt\",\"a\")"
   ]
  },
  {
   "cell_type": "code",
   "execution_count": 117,
   "id": "97e58e7f",
   "metadata": {},
   "outputs": [
    {
     "data": {
      "text/plain": [
       "13"
      ]
     },
     "execution_count": 117,
     "metadata": {},
     "output_type": "execute_result"
    }
   ],
   "source": [
    "f.write(\"where are you\")"
   ]
  },
  {
   "cell_type": "code",
   "execution_count": 121,
   "id": "29958c11",
   "metadata": {},
   "outputs": [],
   "source": [
    "f.close()"
   ]
  },
  {
   "cell_type": "code",
   "execution_count": 122,
   "id": "8988beee",
   "metadata": {},
   "outputs": [],
   "source": [
    "f=open(\"demo.txt\",\"r\")"
   ]
  },
  {
   "cell_type": "code",
   "execution_count": 123,
   "id": "b2374c15",
   "metadata": {},
   "outputs": [
    {
     "data": {
      "text/plain": [
       "'i m fine what are u doingwhere are you'"
      ]
     },
     "execution_count": 123,
     "metadata": {},
     "output_type": "execute_result"
    }
   ],
   "source": [
    "f.read()"
   ]
  },
  {
   "cell_type": "code",
   "execution_count": 85,
   "id": "698503a8",
   "metadata": {},
   "outputs": [],
   "source": [
    "f=open(\"demo1.txt\",'wb')#writing byte"
   ]
  },
  {
   "cell_type": "code",
   "execution_count": 86,
   "id": "b69f773e",
   "metadata": {},
   "outputs": [
    {
     "data": {
      "text/plain": [
       "14"
      ]
     },
     "execution_count": 86,
     "metadata": {},
     "output_type": "execute_result"
    }
   ],
   "source": [
    "f.write(b\"whats your age\")"
   ]
  },
  {
   "cell_type": "code",
   "execution_count": 87,
   "id": "6ec743d8",
   "metadata": {},
   "outputs": [],
   "source": [
    "f=open(\"demo1.txt\",\"r\")"
   ]
  },
  {
   "cell_type": "code",
   "execution_count": 88,
   "id": "96460f81",
   "metadata": {},
   "outputs": [
    {
     "data": {
      "text/plain": [
       "'whats your age'"
      ]
     },
     "execution_count": 88,
     "metadata": {},
     "output_type": "execute_result"
    }
   ],
   "source": [
    "f.read()"
   ]
  },
  {
   "cell_type": "code",
   "execution_count": 90,
   "id": "2fdefd86",
   "metadata": {},
   "outputs": [],
   "source": [
    "f=open(\"demo1.txt\",\"rb\")#reading byte"
   ]
  },
  {
   "cell_type": "code",
   "execution_count": 91,
   "id": "713300cd",
   "metadata": {},
   "outputs": [
    {
     "data": {
      "text/plain": [
       "11"
      ]
     },
     "execution_count": 91,
     "metadata": {},
     "output_type": "execute_result"
    }
   ],
   "source": [
    "f.seek(-3,2)"
   ]
  },
  {
   "cell_type": "code",
   "execution_count": 92,
   "id": "8cef15a1",
   "metadata": {},
   "outputs": [
    {
     "data": {
      "text/plain": [
       "b'age'"
      ]
     },
     "execution_count": 92,
     "metadata": {},
     "output_type": "execute_result"
    }
   ],
   "source": [
    "f.read()"
   ]
  },
  {
   "cell_type": "code",
   "execution_count": 150,
   "id": "0284f0a3",
   "metadata": {},
   "outputs": [],
   "source": [
    "f=open(\"text2.txt\",'wb')"
   ]
  },
  {
   "cell_type": "code",
   "execution_count": 154,
   "id": "5d161c82",
   "metadata": {},
   "outputs": [],
   "source": [
    "f=open(\"text2.txt\",'w')"
   ]
  },
  {
   "cell_type": "code",
   "execution_count": 155,
   "id": "8c6cf5ae",
   "metadata": {},
   "outputs": [
    {
     "data": {
      "text/plain": [
       "22"
      ]
     },
     "execution_count": 155,
     "metadata": {},
     "output_type": "execute_result"
    }
   ],
   "source": [
    "f.write(\"kfhghkfdhg kjfdkgjh sd\")"
   ]
  },
  {
   "cell_type": "code",
   "execution_count": 159,
   "id": "a045b602",
   "metadata": {},
   "outputs": [],
   "source": [
    "f.close()"
   ]
  },
  {
   "cell_type": "code",
   "execution_count": 10,
   "id": "f9d1ab40",
   "metadata": {},
   "outputs": [],
   "source": [
    "f=open(\"text2.txt\",'r')"
   ]
  },
  {
   "cell_type": "code",
   "execution_count": 15,
   "id": "4f2bebc7",
   "metadata": {},
   "outputs": [
    {
     "data": {
      "text/plain": [
       "'\\ndsf\\nsdfds\\nfds\\nfds\\nf\\ndsf\\newrewr\\n\\newr\\n'"
      ]
     },
     "execution_count": 15,
     "metadata": {},
     "output_type": "execute_result"
    }
   ],
   "source": [
    "f.read()"
   ]
  },
  {
   "cell_type": "code",
   "execution_count": 16,
   "id": "1fbcf146",
   "metadata": {},
   "outputs": [
    {
     "data": {
      "text/plain": [
       "''"
      ]
     },
     "execution_count": 16,
     "metadata": {},
     "output_type": "execute_result"
    }
   ],
   "source": [
    "f.readline()"
   ]
  },
  {
   "cell_type": "code",
   "execution_count": 17,
   "id": "efc75b36",
   "metadata": {},
   "outputs": [
    {
     "data": {
      "text/plain": [
       "0"
      ]
     },
     "execution_count": 17,
     "metadata": {},
     "output_type": "execute_result"
    }
   ],
   "source": [
    "f.seek(0)"
   ]
  },
  {
   "cell_type": "code",
   "execution_count": 18,
   "id": "2e801e01",
   "metadata": {},
   "outputs": [
    {
     "data": {
      "text/plain": [
       "'kfhghkfdhg kjfdkgjh sd\\ndsf\\nsdfds\\nfds\\nfds\\nf\\ndsf\\newrewr\\n\\newr\\n'"
      ]
     },
     "execution_count": 18,
     "metadata": {},
     "output_type": "execute_result"
    }
   ],
   "source": [
    "f.read()"
   ]
  },
  {
   "cell_type": "code",
   "execution_count": 21,
   "id": "b0065c52",
   "metadata": {},
   "outputs": [
    {
     "data": {
      "text/plain": [
       "''"
      ]
     },
     "execution_count": 21,
     "metadata": {},
     "output_type": "execute_result"
    }
   ],
   "source": [
    "f.readline(2)"
   ]
  },
  {
   "cell_type": "code",
   "execution_count": 23,
   "id": "8157b1b8",
   "metadata": {},
   "outputs": [
    {
     "data": {
      "text/plain": [
       "0"
      ]
     },
     "execution_count": 23,
     "metadata": {},
     "output_type": "execute_result"
    }
   ],
   "source": [
    "f.seek(0)"
   ]
  },
  {
   "cell_type": "code",
   "execution_count": 24,
   "id": "af8bf86e",
   "metadata": {},
   "outputs": [
    {
     "data": {
      "text/plain": [
       "'kfhghkfdhg kjfdkgjh sd\\ndsf\\nsdfds\\nfds\\nfds\\nf\\ndsf\\newrewr\\n\\newr\\n'"
      ]
     },
     "execution_count": 24,
     "metadata": {},
     "output_type": "execute_result"
    }
   ],
   "source": [
    "f.read()"
   ]
  },
  {
   "cell_type": "code",
   "execution_count": 28,
   "id": "e86f918a",
   "metadata": {},
   "outputs": [],
   "source": [
    "f = open(\"text2.txt\",\"r\")"
   ]
  },
  {
   "cell_type": "code",
   "execution_count": 29,
   "id": "06c2df0d",
   "metadata": {
    "scrolled": true
   },
   "outputs": [
    {
     "name": "stdout",
     "output_type": "stream",
     "text": [
      "kfhghkfdhg kjfdkgjh sd\n",
      "\n",
      "dsf\n",
      "\n",
      "sdfds\n",
      "\n",
      "fds\n",
      "\n",
      "fds\n",
      "\n",
      "f\n",
      "\n",
      "dsf\n",
      "\n",
      "ewrewr\n",
      "\n",
      "\n",
      "\n",
      "ewr\n",
      "\n"
     ]
    }
   ],
   "source": [
    "for i in f:\n",
    "    print(i)"
   ]
  },
  {
   "cell_type": "code",
   "execution_count": 32,
   "id": "366707af",
   "metadata": {},
   "outputs": [],
   "source": [
    "f.close()"
   ]
  },
  {
   "cell_type": "code",
   "execution_count": 31,
   "id": "b9908f43",
   "metadata": {},
   "outputs": [],
   "source": [
    "# open a file and give it in list"
   ]
  },
  {
   "cell_type": "code",
   "execution_count": 33,
   "id": "3142d672",
   "metadata": {},
   "outputs": [],
   "source": [
    "f = open(\"text2.txt\",\"r\")"
   ]
  },
  {
   "cell_type": "code",
   "execution_count": 34,
   "id": "ed1a142a",
   "metadata": {},
   "outputs": [
    {
     "data": {
      "text/plain": [
       "['kfhghkfdhg kjfdkgjh sd\\n',\n",
       " 'dsf\\n',\n",
       " 'sdfds\\n',\n",
       " 'fds\\n',\n",
       " 'fds\\n',\n",
       " 'f\\n',\n",
       " 'dsf\\n',\n",
       " 'ewrewr\\n',\n",
       " '\\n',\n",
       " 'ewr\\n']"
      ]
     },
     "execution_count": 34,
     "metadata": {},
     "output_type": "execute_result"
    }
   ],
   "source": [
    "list(f)"
   ]
  },
  {
   "cell_type": "code",
   "execution_count": 50,
   "id": "e8af5091",
   "metadata": {},
   "outputs": [],
   "source": [
    "f = open(\"text2.txt\",\"r+\")#read & write"
   ]
  },
  {
   "cell_type": "code",
   "execution_count": 51,
   "id": "3ad540ed",
   "metadata": {},
   "outputs": [
    {
     "data": {
      "text/plain": [
       "10"
      ]
     },
     "execution_count": 51,
     "metadata": {},
     "output_type": "execute_result"
    }
   ],
   "source": [
    "f.seek(10)# on 10th position of cursor"
   ]
  },
  {
   "cell_type": "code",
   "execution_count": 52,
   "id": "8420361f",
   "metadata": {},
   "outputs": [
    {
     "data": {
      "text/plain": [
       "7"
      ]
     },
     "execution_count": 52,
     "metadata": {},
     "output_type": "execute_result"
    }
   ],
   "source": [
    "f.write(\"1234545\")"
   ]
  },
  {
   "cell_type": "code",
   "execution_count": 55,
   "id": "e4d6514c",
   "metadata": {},
   "outputs": [],
   "source": [
    "f.close()"
   ]
  },
  {
   "cell_type": "code",
   "execution_count": 58,
   "id": "e6530e33",
   "metadata": {},
   "outputs": [],
   "source": [
    "f = open(\"text2.txt\",\"r\")"
   ]
  },
  {
   "cell_type": "code",
   "execution_count": 59,
   "id": "7de628c3",
   "metadata": {},
   "outputs": [
    {
     "name": "stdout",
     "output_type": "stream",
     "text": [
      "1234545dhg1234545jh sd\n",
      "\n",
      "dsf\n",
      "\n",
      "sdfds\n",
      "\n",
      "fds\n",
      "\n",
      "fds\n",
      "\n",
      "f\n",
      "\n",
      "dsf\n",
      "\n",
      "ewrewr\n",
      "\n",
      "\n",
      "\n",
      "ewr\n",
      "\n",
      "1234545\n"
     ]
    }
   ],
   "source": [
    "for i in f:\n",
    "    print(i)"
   ]
  },
  {
   "cell_type": "code",
   "execution_count": 61,
   "id": "179854d2",
   "metadata": {},
   "outputs": [],
   "source": [
    "f = open(\"text2.txt\",\"r+\")"
   ]
  },
  {
   "cell_type": "code",
   "execution_count": 62,
   "id": "41ddcbf5",
   "metadata": {},
   "outputs": [],
   "source": [
    "f.writelines(\"kkkkkkkk\")"
   ]
  },
  {
   "cell_type": "code",
   "execution_count": 63,
   "id": "78643429",
   "metadata": {},
   "outputs": [],
   "source": [
    "f.close()"
   ]
  },
  {
   "cell_type": "code",
   "execution_count": 65,
   "id": "afc08d4d",
   "metadata": {},
   "outputs": [],
   "source": [
    "f = open(\"text2.txt\",\"r+\")"
   ]
  },
  {
   "cell_type": "code",
   "execution_count": 66,
   "id": "76bee418",
   "metadata": {},
   "outputs": [
    {
     "data": {
      "text/plain": [
       "13"
      ]
     },
     "execution_count": 66,
     "metadata": {},
     "output_type": "execute_result"
    }
   ],
   "source": [
    "f.seek(13)"
   ]
  },
  {
   "cell_type": "code",
   "execution_count": 67,
   "id": "50d32e9e",
   "metadata": {},
   "outputs": [],
   "source": [
    "f.writelines(\"ooooook\")"
   ]
  },
  {
   "cell_type": "code",
   "execution_count": 68,
   "id": "a38e0a7a",
   "metadata": {},
   "outputs": [],
   "source": [
    "f.close()"
   ]
  },
  {
   "cell_type": "code",
   "execution_count": 71,
   "id": "13add18b",
   "metadata": {},
   "outputs": [],
   "source": [
    "f=open(\"test2.txt\",\"r+\")# to check the file number"
   ]
  },
  {
   "cell_type": "code",
   "execution_count": 72,
   "id": "603fe79f",
   "metadata": {},
   "outputs": [
    {
     "data": {
      "text/plain": [
       "74"
      ]
     },
     "execution_count": 72,
     "metadata": {},
     "output_type": "execute_result"
    }
   ],
   "source": [
    "f.fileno()"
   ]
  },
  {
   "cell_type": "code",
   "execution_count": null,
   "id": "addedad7",
   "metadata": {},
   "outputs": [],
   "source": []
  }
 ],
 "metadata": {
  "kernelspec": {
   "display_name": "Python 3 (ipykernel)",
   "language": "python",
   "name": "python3"
  },
  "language_info": {
   "codemirror_mode": {
    "name": "ipython",
    "version": 3
   },
   "file_extension": ".py",
   "mimetype": "text/x-python",
   "name": "python",
   "nbconvert_exporter": "python",
   "pygments_lexer": "ipython3",
   "version": "3.9.12"
  }
 },
 "nbformat": 4,
 "nbformat_minor": 5
}
